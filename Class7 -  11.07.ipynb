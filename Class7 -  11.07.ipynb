{
 "cells": [
  {
   "cell_type": "code",
   "execution_count": 5,
   "id": "3d26e2b1",
   "metadata": {},
   "outputs": [
    {
     "data": {
      "text/plain": [
       "2"
      ]
     },
     "execution_count": 5,
     "metadata": {},
     "output_type": "execute_result"
    }
   ],
   "source": [
    "x=\" Good morning\"\n",
    "x.find('o')"
   ]
  },
  {
   "cell_type": "code",
   "execution_count": 7,
   "id": "a0332f28",
   "metadata": {},
   "outputs": [
    {
     "data": {
      "text/plain": [
       "7"
      ]
     },
     "execution_count": 7,
     "metadata": {},
     "output_type": "execute_result"
    }
   ],
   "source": [
    "x.rfind('o')"
   ]
  },
  {
   "cell_type": "code",
   "execution_count": 9,
   "id": "ae2c6676",
   "metadata": {},
   "outputs": [
    {
     "data": {
      "text/plain": [
       "' good morning'"
      ]
     },
     "execution_count": 9,
     "metadata": {},
     "output_type": "execute_result"
    }
   ],
   "source": [
    "str.lower(x)"
   ]
  },
  {
   "cell_type": "code",
   "execution_count": 10,
   "id": "a9a521d6",
   "metadata": {},
   "outputs": [
    {
     "name": "stdout",
     "output_type": "stream",
     "text": [
      "Help on method_descriptor:\n",
      "\n",
      "find(...)\n",
      "    S.find(sub[, start[, end]]) -> int\n",
      "    \n",
      "    Return the lowest index in S where substring sub is found,\n",
      "    such that sub is contained within S[start:end].  Optional\n",
      "    arguments start and end are interpreted as in slice notation.\n",
      "    \n",
      "    Return -1 on failure.\n",
      "\n"
     ]
    }
   ],
   "source": [
    "help(str.find)"
   ]
  },
  {
   "cell_type": "code",
   "execution_count": null,
   "id": "086269d8",
   "metadata": {},
   "outputs": [],
   "source": []
  },
  {
   "cell_type": "code",
   "execution_count": 11,
   "id": "96f835a7",
   "metadata": {},
   "outputs": [
    {
     "name": "stdout",
     "output_type": "stream",
     "text": [
      "Help on method_descriptor:\n",
      "\n",
      "rfind(...)\n",
      "    S.rfind(sub[, start[, end]]) -> int\n",
      "    \n",
      "    Return the highest index in S where substring sub is found,\n",
      "    such that sub is contained within S[start:end].  Optional\n",
      "    arguments start and end are interpreted as in slice notation.\n",
      "    \n",
      "    Return -1 on failure.\n",
      "\n"
     ]
    }
   ],
   "source": [
    "help(str.rfind)"
   ]
  },
  {
   "cell_type": "code",
   "execution_count": 15,
   "id": "9adfe85c",
   "metadata": {},
   "outputs": [
    {
     "data": {
      "text/plain": [
       "7"
      ]
     },
     "execution_count": 15,
     "metadata": {},
     "output_type": "execute_result"
    }
   ],
   "source": [
    "x.find('o',5)"
   ]
  },
  {
   "cell_type": "code",
   "execution_count": 16,
   "id": "acbb955e",
   "metadata": {},
   "outputs": [
    {
     "data": {
      "text/plain": [
       "2"
      ]
     },
     "execution_count": 16,
     "metadata": {},
     "output_type": "execute_result"
    }
   ],
   "source": [
    "x.index('o')"
   ]
  },
  {
   "cell_type": "code",
   "execution_count": 17,
   "id": "f38cc804",
   "metadata": {},
   "outputs": [
    {
     "name": "stdout",
     "output_type": "stream",
     "text": [
      "Help on built-in function index:\n",
      "\n",
      "index(...) method of builtins.str instance\n",
      "    S.index(sub[, start[, end]]) -> int\n",
      "    \n",
      "    Return the lowest index in S where substring sub is found,\n",
      "    such that sub is contained within S[start:end].  Optional\n",
      "    arguments start and end are interpreted as in slice notation.\n",
      "    \n",
      "    Raises ValueError when the substring is not found.\n",
      "\n"
     ]
    }
   ],
   "source": [
    "help(x.index)"
   ]
  },
  {
   "cell_type": "code",
   "execution_count": 18,
   "id": "8ae41e6e",
   "metadata": {},
   "outputs": [
    {
     "data": {
      "text/plain": [
       "-1"
      ]
     },
     "execution_count": 18,
     "metadata": {},
     "output_type": "execute_result"
    }
   ],
   "source": [
    "x.find('z')"
   ]
  },
  {
   "cell_type": "code",
   "execution_count": 20,
   "id": "b4a6e63a",
   "metadata": {
    "scrolled": true
   },
   "outputs": [
    {
     "ename": "ValueError",
     "evalue": "substring not found",
     "output_type": "error",
     "traceback": [
      "\u001b[1;31m---------------------------------------------------------------------------\u001b[0m",
      "\u001b[1;31mValueError\u001b[0m                                Traceback (most recent call last)",
      "\u001b[1;32m~\\AppData\\Local\\Temp/ipykernel_5016/3658537077.py\u001b[0m in \u001b[0;36m<module>\u001b[1;34m\u001b[0m\n\u001b[1;32m----> 1\u001b[1;33m \u001b[0mx\u001b[0m\u001b[1;33m.\u001b[0m\u001b[0mindex\u001b[0m\u001b[1;33m(\u001b[0m\u001b[1;34m'z'\u001b[0m\u001b[1;33m)\u001b[0m \u001b[1;31m##DIFF BETWEEN DIND AND INDEX\u001b[0m\u001b[1;33m\u001b[0m\u001b[1;33m\u001b[0m\u001b[0m\n\u001b[0m",
      "\u001b[1;31mValueError\u001b[0m: substring not found"
     ]
    }
   ],
   "source": [
    "x.index('z') ##DIFF BETWEEN DIND AND INDEX"
   ]
  },
  {
   "cell_type": "code",
   "execution_count": 26,
   "id": "3f4f57d1",
   "metadata": {},
   "outputs": [
    {
     "data": {
      "text/plain": [
       "7"
      ]
     },
     "execution_count": 26,
     "metadata": {},
     "output_type": "execute_result"
    }
   ],
   "source": [
    "x.rindex('o') ##same with rindex"
   ]
  },
  {
   "cell_type": "code",
   "execution_count": 27,
   "id": "894b1732",
   "metadata": {},
   "outputs": [
    {
     "name": "stdout",
     "output_type": "stream",
     "text": [
      "Help on built-in function rindex:\n",
      "\n",
      "rindex(...) method of builtins.str instance\n",
      "    S.rindex(sub[, start[, end]]) -> int\n",
      "    \n",
      "    Return the highest index in S where substring sub is found,\n",
      "    such that sub is contained within S[start:end].  Optional\n",
      "    arguments start and end are interpreted as in slice notation.\n",
      "    \n",
      "    Raises ValueError when the substring is not found.\n",
      "\n"
     ]
    }
   ],
   "source": [
    "help(x.rindex)"
   ]
  },
  {
   "cell_type": "code",
   "execution_count": 28,
   "id": "798d0981",
   "metadata": {},
   "outputs": [
    {
     "name": "stdout",
     "output_type": "stream",
     "text": [
      "Help on built-in function split:\n",
      "\n",
      "split(sep=None, maxsplit=-1) method of builtins.str instance\n",
      "    Return a list of the words in the string, using sep as the delimiter string.\n",
      "    \n",
      "    sep\n",
      "      The delimiter according which to split the string.\n",
      "      None (the default value) means split according to any whitespace,\n",
      "      and discard empty strings from the result.\n",
      "    maxsplit\n",
      "      Maximum number of splits to do.\n",
      "      -1 (the default value) means no limit.\n",
      "\n"
     ]
    }
   ],
   "source": [
    "help(x.split)"
   ]
  },
  {
   "cell_type": "code",
   "execution_count": 32,
   "id": "95c6736a",
   "metadata": {},
   "outputs": [
    {
     "data": {
      "text/plain": [
       "[' G', '', 'd m', 'rning']"
      ]
     },
     "execution_count": 32,
     "metadata": {},
     "output_type": "execute_result"
    }
   ],
   "source": [
    "x.split ('o')"
   ]
  },
  {
   "cell_type": "code",
   "execution_count": 34,
   "id": "85ee8c80",
   "metadata": {},
   "outputs": [
    {
     "data": {
      "text/plain": [
       "[' G', '', 'd m', 'rning']"
      ]
     },
     "execution_count": 34,
     "metadata": {},
     "output_type": "execute_result"
    }
   ],
   "source": [
    "x.rsplit('o')"
   ]
  },
  {
   "cell_type": "code",
   "execution_count": 41,
   "id": "957c5db6",
   "metadata": {},
   "outputs": [
    {
     "data": {
      "text/plain": [
       "['', 'Good', 'morning']"
      ]
     },
     "execution_count": 41,
     "metadata": {},
     "output_type": "execute_result"
    }
   ],
   "source": [
    "\n",
    "x.rsplit(' ', maxsplit=2)"
   ]
  },
  {
   "cell_type": "code",
   "execution_count": 46,
   "id": "1c014fd5",
   "metadata": {},
   "outputs": [
    {
     "data": {
      "text/plain": [
       "(' Good mornin', 'g', '')"
      ]
     },
     "execution_count": 46,
     "metadata": {},
     "output_type": "execute_result"
    }
   ],
   "source": [
    "x.partition('g') \n"
   ]
  },
  {
   "cell_type": "code",
   "execution_count": 47,
   "id": "54818caa",
   "metadata": {},
   "outputs": [
    {
     "data": {
      "text/plain": [
       "(' Good morning', '', '')"
      ]
     },
     "execution_count": 47,
     "metadata": {},
     "output_type": "execute_result"
    }
   ],
   "source": [
    "x.partition('z')"
   ]
  },
  {
   "cell_type": "code",
   "execution_count": 52,
   "id": "66a560dc",
   "metadata": {},
   "outputs": [
    {
     "data": {
      "text/plain": [
       "('', '', ' Good morning')"
      ]
     },
     "execution_count": 52,
     "metadata": {},
     "output_type": "execute_result"
    }
   ],
   "source": [
    "x.rpartition('z')"
   ]
  },
  {
   "cell_type": "code",
   "execution_count": null,
   "id": "8c2a1ce9",
   "metadata": {},
   "outputs": [],
   "source": []
  },
  {
   "cell_type": "code",
   "execution_count": 54,
   "id": "95170166",
   "metadata": {},
   "outputs": [
    {
     "data": {
      "text/plain": [
       "'Goodmorning'"
      ]
     },
     "execution_count": 54,
     "metadata": {},
     "output_type": "execute_result"
    }
   ],
   "source": [
    "\"\".join(x.split())"
   ]
  },
  {
   "cell_type": "markdown",
   "id": "36e6730e",
   "metadata": {},
   "source": [
    "# strip(), Lstrip(), rstrip()"
   ]
  },
  {
   "cell_type": "code",
   "execution_count": 59,
   "id": "50f59f82",
   "metadata": {},
   "outputs": [
    {
     "data": {
      "text/plain": [
       "'Good morning'"
      ]
     },
     "execution_count": 59,
     "metadata": {},
     "output_type": "execute_result"
    }
   ],
   "source": [
    "x=   \"\" 'Good morning'\n",
    "x.strip()"
   ]
  },
  {
   "cell_type": "code",
   "execution_count": 60,
   "id": "ded508f7",
   "metadata": {},
   "outputs": [
    {
     "data": {
      "text/plain": [
       "'Good morning'"
      ]
     },
     "execution_count": 60,
     "metadata": {},
     "output_type": "execute_result"
    }
   ],
   "source": [
    "x.lstrip()"
   ]
  },
  {
   "cell_type": "code",
   "execution_count": 61,
   "id": "e60943ce",
   "metadata": {},
   "outputs": [
    {
     "data": {
      "text/plain": [
       "'Good morning'"
      ]
     },
     "execution_count": 61,
     "metadata": {},
     "output_type": "execute_result"
    }
   ],
   "source": [
    "x.rstrip()"
   ]
  },
  {
   "cell_type": "markdown",
   "id": "083b0afe",
   "metadata": {},
   "source": [
    "## Task\n"
   ]
  },
  {
   "cell_type": "code",
   "execution_count": 1,
   "id": "1086f68a",
   "metadata": {},
   "outputs": [],
   "source": [
    "x= \"This a task to code with proper comments explaining all the string methods with start with is\""
   ]
  },
  {
   "cell_type": "code",
   "execution_count": 16,
   "id": "51f37d76",
   "metadata": {},
   "outputs": [
    {
     "data": {
      "text/plain": [
       "True"
      ]
     },
     "execution_count": 16,
     "metadata": {},
     "output_type": "execute_result"
    }
   ],
   "source": [
    "x= \"abc\"\n",
    "x.isalpha() ##Checks if all characters are alphabets"
   ]
  },
  {
   "cell_type": "code",
   "execution_count": 19,
   "id": "e4611258",
   "metadata": {},
   "outputs": [
    {
     "data": {
      "text/plain": [
       "False"
      ]
     },
     "execution_count": 19,
     "metadata": {},
     "output_type": "execute_result"
    }
   ],
   "source": [
    "x=\"0.473728\"\n",
    "x.isdecimal() ## Checks Decimal Characters"
   ]
  },
  {
   "cell_type": "code",
   "execution_count": 20,
   "id": "85c568da",
   "metadata": {},
   "outputs": [
    {
     "data": {
      "text/plain": [
       "True"
      ]
     },
     "execution_count": 20,
     "metadata": {},
     "output_type": "execute_result"
    }
   ],
   "source": [
    "x='1220'\n",
    "x.isdigit() ##Checks Digit Characters"
   ]
  },
  {
   "cell_type": "code",
   "execution_count": 21,
   "id": "0560d0f8",
   "metadata": {},
   "outputs": [
    {
     "data": {
      "text/plain": [
       "False"
      ]
     },
     "execution_count": 21,
     "metadata": {},
     "output_type": "execute_result"
    }
   ],
   "source": [
    "x= \"This a task to code with proper comments explaining all the string methods with start with is\"\n",
    "x.isidentifier() ##Checks for Valid Identifier"
   ]
  },
  {
   "cell_type": "code",
   "execution_count": 22,
   "id": "82f60a84",
   "metadata": {},
   "outputs": [
    {
     "data": {
      "text/plain": [
       "True"
      ]
     },
     "execution_count": 22,
     "metadata": {},
     "output_type": "execute_result"
    }
   ],
   "source": [
    "x='this is a sample '\n",
    "x.islower() ## Checks if all Alphabets in a String are Lowercase"
   ]
  },
  {
   "cell_type": "code",
   "execution_count": 23,
   "id": "6e1a448e",
   "metadata": {},
   "outputs": [
    {
     "data": {
      "text/plain": [
       "True"
      ]
     },
     "execution_count": 23,
     "metadata": {},
     "output_type": "execute_result"
    }
   ],
   "source": [
    "x='8421'\n",
    "x.isnumeric() ##Checks Numeric Characters"
   ]
  },
  {
   "cell_type": "code",
   "execution_count": 24,
   "id": "9305ea27",
   "metadata": {},
   "outputs": [
    {
     "data": {
      "text/plain": [
       "True"
      ]
     },
     "execution_count": 24,
     "metadata": {},
     "output_type": "execute_result"
    }
   ],
   "source": [
    "x='x= \"This a task to code with proper comments explaining all the string methods with start with is\"'\n",
    "x.isprintable()      ## Checks Printable Character"
   ]
  },
  {
   "cell_type": "code",
   "execution_count": 25,
   "id": "6dd50d9d",
   "metadata": {},
   "outputs": [
    {
     "data": {
      "text/plain": [
       "False"
      ]
     },
     "execution_count": 25,
     "metadata": {},
     "output_type": "execute_result"
    }
   ],
   "source": [
    "x='''This a task to code with proper comments explaining all the string methods with start with is\n",
    "this is a sample text box'''\n",
    "x.isspace( )  ## Checks Whitespace Characters\n"
   ]
  },
  {
   "cell_type": "code",
   "execution_count": 27,
   "id": "8d40e163",
   "metadata": {},
   "outputs": [
    {
     "data": {
      "text/plain": [
       "True"
      ]
     },
     "execution_count": 27,
     "metadata": {},
     "output_type": "execute_result"
    }
   ],
   "source": [
    "x=\"This Is A Sample\"\n",
    "x.istitle() ##Checks for Titlecased String"
   ]
  },
  {
   "cell_type": "code",
   "execution_count": 28,
   "id": "4e91fb2a",
   "metadata": {},
   "outputs": [
    {
     "data": {
      "text/plain": [
       "True"
      ]
     },
     "execution_count": 28,
     "metadata": {},
     "output_type": "execute_result"
    }
   ],
   "source": [
    "x='ABCD'\n",
    "x.isupper() ##returns if all characters are uppercase characters "
   ]
  },
  {
   "cell_type": "code",
   "execution_count": null,
   "id": "884f93bf",
   "metadata": {},
   "outputs": [],
   "source": []
  }
 ],
 "metadata": {
  "kernelspec": {
   "display_name": "Python 3 (ipykernel)",
   "language": "python",
   "name": "python3"
  },
  "language_info": {
   "codemirror_mode": {
    "name": "ipython",
    "version": 3
   },
   "file_extension": ".py",
   "mimetype": "text/x-python",
   "name": "python",
   "nbconvert_exporter": "python",
   "pygments_lexer": "ipython3",
   "version": "3.9.7"
  }
 },
 "nbformat": 4,
 "nbformat_minor": 5
}
